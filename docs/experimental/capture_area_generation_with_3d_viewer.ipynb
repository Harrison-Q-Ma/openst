{
 "cells": [
  {
   "cell_type": "markdown",
   "metadata": {},
   "source": [
    "# Capture area generation\n",
    "The following section details the generation of capture areas for the Open-ST protocol. \n",
    "\n",
    "By sequencing oligos, which comprise unique 32-nucleotide barcodes, appropriate adapters,\n",
    "and a poly-dT, we register the barcode sequences and their associated coordinates on the flow cell.\n",
    "\n",
    "For instance, you can get ~360 capture areas sized 3x4 mm from a single **Illumina® NovaSeq 6000 S4** flow cell.\n",
    "\n",
    "## Sequencing of barcoded library \n",
    "\n",
    "When using an **Illumina® NovaSeq 6000 S4** flow cell (35 cycles), sequence the HDMI32-DraI library\n",
    "(see in [Oligonucleotides](getting_started.md)) at a loading concentration of 200 pM. \n",
    "\n",
    "Sequence a single-end 37 cycle read, using Read1-DraI oligo as a custom primer.\n",
    "Use a custom sequencing recipe that stops the run immediately after read 1 prior to on-instrument washes. \n",
    "\n",
    "### Expected (data) output\n",
    "Either when using your own sequencing equipment or relying on a sequencing facility, you will get access\n",
    "to (most likely) already [demultiplexed](https://knowledge.illumina.com/software/general/software-general-troubleshooting-list/000005982)\n",
    "`fastq` files; otherwise, you can get access to *raw* basecall files in `bcl` [format](https://support.illumina.com/content/dam/illumina-support/help/Illumina_DRAGEN_Bio_IT_Platform_v3_7_1000000141465/Content/SW/Informatics/Dragen/ToolsiBCL_fDG.htm).\n",
    "\n",
    "Either of these files shall be used as the input for `openst` [later](../computational/preprocessing_sequencing.md#processing-the-sequencing-of-barcoded-library),\n",
    "to create a database of barcode sequences and their spatial locations.\n",
    "\n",
    "## Enzymatic processing\n",
    "\n",
    "!!! Tip \"Tips\" \n",
    "\n",
    "    - If bubbles occur, mark these with pen on the flow cell. Repeat reactions if many bubbles occur and ensure bubbles do not form at the same locations. \n",
    "    - Use a P1000 pipette and pipette slowly to avoid the formation of bubbles. \n",
    "    - For removing washes, pipette the liquid out and then blow through air using the P1000 to remove remaining liquid.\n",
    "\n",
    "### Dra I digestion \n",
    "\n",
    "**DraI mix**\n",
    "\n",
    "|Reagent|Final concentration|Volume (uL)|\n",
    "|----|----|----|\n",
    "|DraI|2U/uL|10|\n",
    "|10X CutSmart buffer|1x|10|\n",
    "|Ultrapure water||80|\n",
    "\n",
    "1. Wash flow cell by flowing through 500 uL ultrapure water using a P1000 pipette.  \n",
    "2. Add DraI mix and incubate at 37°C overnight.\n",
    "\n",
    "### Exonucelase I digestion \n",
    "\n",
    "**ExoI mix**\n",
    "\n",
    "| Reagent | Final concentration | Volume (uL) |\n",
    "|----|----|----|\n",
    "|ExoI|1 U/uL|5|\n",
    "|10X ExoI buffer|1x|10|\n",
    "|Ultrapure water||85|\n",
    "\n",
    "1. Wash flow cell by flowing through 500 uL 80% ethanol, then ultrapure water.\n",
    "2. Add Exonuclease I mix and incubate for 45 min at 37°C.\n",
    "3. Wash flow cell by flowing through 500 uL ultrapure water three times.\n",
    "\n",
    "## Opening, denaturation and washes \n",
    "\n",
    "!!! Note \n",
    "\n",
    "    The NovaSeq6000 S4 flow cell images the top and bottom glass. Thus, keep both and take care not to break them.  \n",
    "\n",
    "1. Remove the flow cell from its plastic encasing. \n",
    "2. Carefully score along the sides of the flow cell using a scalpell. The blade should be in one plane with the flow cell.\n",
    "3. Once all sides detach, carefully seperate the two flow cell glasses. \n",
    " \n",
    "## Breaking the flow cells into capture areas \n",
    "\n",
    "!!! Note\n",
    " \n",
    "    Capture areas can be stored dry in the fridge for extended periods of time. We have generated libraries from prepared capture areas stored for x months. \n",
    "\n",
    "We have designed a cutting guide that facilitates the breaking of the flow cell into regular capture areas. \n",
    "We provide the 3D model of the cutting guide as a printable [stl](../Open-ST_cutting_guide_3D_design.stl) file.\n",
    "You can take a look at it in the viewer below."
   ]
  },
  {
   "cell_type": "code",
   "execution_count": 5,
   "metadata": {},
   "outputs": [
    {
     "name": "stdout",
     "output_type": "stream",
     "text": [
      "\u001b[0;31mSignature:\u001b[0m\n",
      "\u001b[0mipv\u001b[0m\u001b[0;34m.\u001b[0m\u001b[0mplot_trisurf\u001b[0m\u001b[0;34m(\u001b[0m\u001b[0;34m\u001b[0m\n",
      "\u001b[0;34m\u001b[0m    \u001b[0mx\u001b[0m\u001b[0;34m,\u001b[0m\u001b[0;34m\u001b[0m\n",
      "\u001b[0;34m\u001b[0m    \u001b[0my\u001b[0m\u001b[0;34m,\u001b[0m\u001b[0;34m\u001b[0m\n",
      "\u001b[0;34m\u001b[0m    \u001b[0mz\u001b[0m\u001b[0;34m,\u001b[0m\u001b[0;34m\u001b[0m\n",
      "\u001b[0;34m\u001b[0m    \u001b[0mtriangles\u001b[0m\u001b[0;34m=\u001b[0m\u001b[0;32mNone\u001b[0m\u001b[0;34m,\u001b[0m\u001b[0;34m\u001b[0m\n",
      "\u001b[0;34m\u001b[0m    \u001b[0mlines\u001b[0m\u001b[0;34m=\u001b[0m\u001b[0;32mNone\u001b[0m\u001b[0;34m,\u001b[0m\u001b[0;34m\u001b[0m\n",
      "\u001b[0;34m\u001b[0m    \u001b[0mcolor\u001b[0m\u001b[0;34m=\u001b[0m\u001b[0;34m'red'\u001b[0m\u001b[0;34m,\u001b[0m\u001b[0;34m\u001b[0m\n",
      "\u001b[0;34m\u001b[0m    \u001b[0mu\u001b[0m\u001b[0;34m=\u001b[0m\u001b[0;32mNone\u001b[0m\u001b[0;34m,\u001b[0m\u001b[0;34m\u001b[0m\n",
      "\u001b[0;34m\u001b[0m    \u001b[0mv\u001b[0m\u001b[0;34m=\u001b[0m\u001b[0;32mNone\u001b[0m\u001b[0;34m,\u001b[0m\u001b[0;34m\u001b[0m\n",
      "\u001b[0;34m\u001b[0m    \u001b[0mtexture\u001b[0m\u001b[0;34m=\u001b[0m\u001b[0;32mNone\u001b[0m\u001b[0;34m,\u001b[0m\u001b[0;34m\u001b[0m\n",
      "\u001b[0;34m\u001b[0m    \u001b[0mcast_shadow\u001b[0m\u001b[0;34m=\u001b[0m\u001b[0;32mTrue\u001b[0m\u001b[0;34m,\u001b[0m\u001b[0;34m\u001b[0m\n",
      "\u001b[0;34m\u001b[0m    \u001b[0mreceive_shadow\u001b[0m\u001b[0;34m=\u001b[0m\u001b[0;32mTrue\u001b[0m\u001b[0;34m,\u001b[0m\u001b[0;34m\u001b[0m\n",
      "\u001b[0;34m\u001b[0m    \u001b[0mdescription\u001b[0m\u001b[0;34m=\u001b[0m\u001b[0;32mNone\u001b[0m\u001b[0;34m,\u001b[0m\u001b[0;34m\u001b[0m\n",
      "\u001b[0;34m\u001b[0m    \u001b[0;34m**\u001b[0m\u001b[0mkwargs\u001b[0m\u001b[0;34m,\u001b[0m\u001b[0;34m\u001b[0m\n",
      "\u001b[0;34m\u001b[0m\u001b[0;34m)\u001b[0m\u001b[0;34m\u001b[0m\u001b[0;34m\u001b[0m\u001b[0m\n",
      "\u001b[0;31mDocstring:\u001b[0m\n",
      "Draw a polygon/triangle mesh defined by a coordinate and triangle indices.\n",
      "\n",
      "The following example plots a rectangle in the z==2 plane, consisting of 2 triangles:\n",
      "\n",
      ">>> plot_trisurf([0, 0, 3., 3.], [0, 4., 0, 4.], 2,\n",
      "       triangles=[[0, 2, 3], [0, 3, 1]])\n",
      "\n",
      "Note that the z value is constant, and thus not a list/array. For guidance, the triangles\n",
      "refer to the vertices in this manner::\n",
      "\n",
      "    ^ ydir\n",
      "    |\n",
      "    2 3\n",
      "    0 1  ---> x dir\n",
      "\n",
      "Note that if you want per face/triangle colors, you need to duplicate each vertex.\n",
      "\n",
      "\n",
      ":param x: numpy array of shape (N,) or (S, N) with x positions. If an (S, N) array, the first dimension will be used for frames in an animation.\n",
      ":param y: idem for y\n",
      ":param z: idem for z\n",
      ":param triangles: numpy array with indices referring to the vertices, defining the triangles, with shape (M, 3)\n",
      ":param lines: numpy array with indices referring to the vertices, defining the lines, with shape (K, 2)\n",
      ":param color: color for each point/vertex/symbol, can be string format, examples for red:'red', '#f00','#ff0000' or'rgb(1,0,0), or rgb array of shape (N, 3 or 4) or (S, N, 3 or 4) Color of the material, essentially a solid color unaffected by other lighting. Default is 'red'\n",
      ":param u: numpy array of shape (N,) or (S, N) indicating the u (x) coordinate for the texture. If an (S, N) array, the first dimension will be used for frames in an animation.\n",
      ":param v: numpy array of shape (N,) or (S, N) indicating the v (y) coordinate for the texture. If an (S, N) array, the first dimension will be used for frames in an animation.\n",
      ":param texture: PIL.Image object or ipywebrtc.MediaStream (can be a seqence)\n",
      ":param cast_shadow: If this object casts a shadown on other options (default) or not. Works only with Directional, Point and Spot lights.\n",
      ":param receive_shadow: If this objects receives shadows (default) or not. Works only with Directional, Point and Spot lights.\n",
      ":param description: Used in the legend and in popup to identify the object\n",
      ":return: :any:`Mesh`\n",
      "\u001b[0;31mFile:\u001b[0m      ~/miniconda3/envs/napari-env/lib/python3.9/site-packages/ipyvolume/pylab.py\n",
      "\u001b[0;31mType:\u001b[0m      function"
     ]
    }
   ],
   "source": [
    "?ipv.plot_trisurf"
   ]
  },
  {
   "cell_type": "code",
   "execution_count": 10,
   "metadata": {},
   "outputs": [
    {
     "name": "stdout",
     "output_type": "stream",
     "text": [
      "\u001b[0;31mSignature:\u001b[0m \u001b[0mipv\u001b[0m\u001b[0;34m.\u001b[0m\u001b[0mview\u001b[0m\u001b[0;34m(\u001b[0m\u001b[0mazimuth\u001b[0m\u001b[0;34m=\u001b[0m\u001b[0;32mNone\u001b[0m\u001b[0;34m,\u001b[0m \u001b[0melevation\u001b[0m\u001b[0;34m=\u001b[0m\u001b[0;32mNone\u001b[0m\u001b[0;34m,\u001b[0m \u001b[0mdistance\u001b[0m\u001b[0;34m=\u001b[0m\u001b[0;32mNone\u001b[0m\u001b[0;34m)\u001b[0m\u001b[0;34m\u001b[0m\u001b[0;34m\u001b[0m\u001b[0m\n",
      "\u001b[0;31mDocstring:\u001b[0m\n",
      "Set camera angles and distance and return the current.\n",
      "\n",
      ":param float azimuth: rotation around the axis pointing up in degrees\n",
      ":param float elevation: rotation where +90 means 'up', -90 means 'down', in degrees\n",
      ":param float distance: radial distance from the center to the camera.\n",
      "\u001b[0;31mFile:\u001b[0m      ~/miniconda3/envs/napari-env/lib/python3.9/site-packages/ipyvolume/pylab.py\n",
      "\u001b[0;31mType:\u001b[0m      function"
     ]
    }
   ],
   "source": [
    "?ipv.view"
   ]
  },
  {
   "cell_type": "code",
   "execution_count": 23,
   "metadata": {},
   "outputs": [
    {
     "data": {
      "application/vnd.jupyter.widget-view+json": {
       "model_id": "797f81e1d4634a5b9d20a2094a66679a",
       "version_major": 2,
       "version_minor": 0
      },
      "text/plain": [
       "Container(figure=Figure(box_center=[0.5, 0.5, 0.5], box_size=[1.0, 1.0, 1.0], camera=PerspectiveCamera(fov=45.…"
      ]
     },
     "metadata": {},
     "output_type": "display_data"
    }
   ],
   "source": [
    "import ipyvolume as ipv\n",
    "from stl import mesh\n",
    "import numpy as np\n",
    "\n",
    "my_mesh = mesh.Mesh.from_file('/home/dleonpe/data/projects/openst_paper/repos/openst/docs/openst_cutting_guide_3D_design.stl')\n",
    "\n",
    "fig = ipv.figure()\n",
    "n = len(my_mesh.v0)\n",
    "ipv.plot_trisurf(x=my_mesh.x.ravel(order='F'),\n",
    "                 y=my_mesh.y.ravel(order='F'),\n",
    "                 z=my_mesh.z.ravel(order='F'),\n",
    "                 triangles=np.arange(3*n).reshape(n,3,order='F'),\n",
    "                 color=\"orange\", description='3D cutting guide')\n",
    "ipv.view(azimuth=10, elevation=150, distance=-300)\n",
    "ipv.show()"
   ]
  },
  {
   "cell_type": "code",
   "execution_count": 3,
   "metadata": {},
   "outputs": [],
   "source": [
    "ipv.pylab.save(\"3d_viewer_capture_area.html\")"
   ]
  },
  {
   "cell_type": "markdown",
   "metadata": {},
   "source": [
    "If you don't have a 3D printer, you can check for [3D printing services near you](https://www.google.com/search?q=3d+printing+service+near+me) -\n",
    "they will help you in this endeavor 🤗.\n",
    "\n",
    "\n",
    "Once you have the tool, refer to the video below where we explain how to use it:\n",
    "\n",
    "---\n",
    "\n",
    ":fontawesome-brands-youtube:{ style=\"color: #EE0F0F\" }\n",
    "__[Open-ST: breaking the flow cell into capture areas]__ by @danilexn – :octicons-clock-24:\n",
    "10m – Learn how to break an Illumina® NovaSeq 6000 S4 flow cell into capture areas \n",
    "using our 3D-printable cutting guide.\n",
    "\n",
    "  [Open-ST: breaking the flow cell into capture areas]: https://www.youtube.com\n",
    "\n",
    "---"
   ]
  }
 ],
 "metadata": {
  "kernelspec": {
   "display_name": "openst_paper",
   "language": "python",
   "name": "python3"
  },
  "language_info": {
   "codemirror_mode": {
    "name": "ipython",
    "version": 3
   },
   "file_extension": ".py",
   "mimetype": "text/x-python",
   "name": "python",
   "nbconvert_exporter": "python",
   "pygments_lexer": "ipython3",
   "version": "3.9.16"
  }
 },
 "nbformat": 4,
 "nbformat_minor": 2
}
