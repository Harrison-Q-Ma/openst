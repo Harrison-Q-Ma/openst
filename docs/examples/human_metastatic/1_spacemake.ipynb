{
 "cells": [
  {
   "cell_type": "markdown",
   "metadata": {},
   "source": [
    "# Preprocessing sequencing data"
   ]
  },
  {
   "cell_type": "markdown",
   "metadata": {},
   "source": [
    "After the experimental protocol, there are two major computational steps:\n",
    "\n",
    "1. Mapping the barcodes from the flow cell to spatial coordinates. **Important**: this is done only once per flow cell, and will be useful for ~80-300 experiments when capture areas are sized 3x4 mm.\n",
    "2. Map the transcriptomic reads to reference genome and tissue space. This is done once per sample. In the case of 3D reconstruction, all steps are the same, but you will repeat them for each individual library (i.e., one per section). "
   ]
  },
  {
   "cell_type": "markdown",
   "metadata": {},
   "source": [
    "First of all, make sure that the working directory is set to the one you created previously:\n",
    "\n",
    "```bash\n",
    "WORKDIR=\"/home/user/openst_demo\"\n",
    "mkdir -p $WORKDIR\n",
    "cd $WORKDIR\n",
    "```\n",
    "\n",
    "Also, we set the base URL for the server where data will be downloaded from\n",
    "```bash\n",
    "BASE_URL=\"http://bimsbstatic.mdc-berlin.de/rajewsky/openst-public-data/openst_metastatic_lymph_node\"\n",
    "```"
   ]
  },
  {
   "cell_type": "markdown",
   "metadata": {},
   "source": [
    "## Generating barcode-to-coordinate map\n",
    "\n",
    "For each flow cell (thus, done only once), we generate plain text files with three columns: `cell_bc`, `x_pos`, and `y_pos`. These files are later used by `spacemake` to reconstruct the spatial coordinates from transcriptomic libraries. This process is performed only once per barcoded flow cell.\n",
    "\n",
    "!!! warning \"Software dependencies\"\n",
    "    Running `openst flowcell_map` below requires installing either `bcl2fastq` or `bclconvert`.\n",
    "    You can find instructions for [`bcl2fastq`](https://emea.support.illumina.com/sequencing/sequencing_software/bcl2fastq-conversion-software.html),\n",
    "    and [`bclconvert`](https://emea.support.illumina.com/sequencing/sequencing_software/bcl-convert.html).\n",
    "    \n",
    "    Then, make sure they are added to the `PATH` environment variable.\n",
    "    \n",
    "    For instance, in Linux: \n",
    "    ```bash\n",
    "    export PATH=/path/to/bcl2fastq:$PATH\n",
    "    # or\n",
    "    # export PATH=/path/to/bclconvert:$PATH\n",
    "    ```\n",
    "\n",
    "    Make sure you use a version of these softwares compatible with your sequencer."
   ]
  },
  {
   "cell_type": "markdown",
   "metadata": {},
   "source": [
    "To reproduce this human metastatic lymph node example, we provide the [BCLs](https://emea.illumina.com/informatics/sequencing-data-analysis/sequence-file-formats.html) of the flow cell used for these tissue sections. When you run your own data, you or your sequencing facility will need to preprocess the flow-cell barcodes, only once.\n",
    "\n",
    "Download the BCLs to your machine:\n",
    "\n",
    "```bash\n",
    "mkdir -p $WORKDIR/raw_data/flowcell_data\n",
    "mkdir -p $WORKDIR/raw_data/tiles\n",
    "\n",
    "wget ${BASE_URL}/flowcell_data.tar.gz\n",
    "tar xvf flowcell_data.tar.gz $WORKDIR/raw_data/flowcell_data\n",
    "```"
   ]
  },
  {
   "cell_type": "markdown",
   "metadata": {},
   "source": [
    "After the `bcl2fastq` or `bclconvert` dependencies have been installed, and you have downloaded the BCL, you can create the barcode-to-coordinate map for all tiles:\n",
    "\n",
    "```sh\n",
    "openst flowcell_map \\\n",
    "    --bcl-in $WORKDIR/raw_data/flowcell_data \\\n",
    "    --tiles-out $WORKDIR/raw_data/tiles \\\n",
    "    --crop-seq 5:30 \\\n",
    "    --rev-comp\n",
    "```\n",
    "\n",
    "This command will barcode-to-coordinate maps at `$WORKDIR/raw_data/tiles` - as many `.txt.gz` files as tiles in the barcoded flow cell."
   ]
  },
  {
   "cell_type": "markdown",
   "metadata": {},
   "source": [
    "Alternatively, you can skip the step above by downloading the expected results and putting them directly into the `$WORKDIR/raw_data/tiles` folder, e.g.:\n",
    "\n",
    "```bash\n",
    "wget ${BASE_URL}/tile_data.tar.gz\n",
    "tar xvf tile_data.tar.gz --strip-components=1 -C $WORKDIR/raw_data/tiles/.\n",
    "```\n",
    "\n",
    "This is most likely not compatible with your own barcoded flow cell, as it will have completely different barcode-to-coordinate maps."
   ]
  },
  {
   "cell_type": "markdown",
   "metadata": {},
   "source": [
    "!!! warning\n",
    "\n",
    "    `spacemake`, when using the default `openst` mode, needs a coordinate system whose column `cell_bc` matches the names of the files in the root of `$WORKDIR/raw_data/tiles`.\n",
    "\n",
    "    By default, `spacemake` includes a coordinate system that follows the naming:\n",
    "\n",
    "    ```\n",
    "    fc_1_L1_tile_1101\n",
    "    fc_1_L1_tile_1102\n",
    "    ...\n",
    "    fc_1_L4_tile_2678\n",
    "    ```\n",
    "\n",
    "    However, the files provided in our example follow the names:\n",
    "    ```\n",
    "    fc_1_1_1101.txt.gz\n",
    "    fc_1_1_1102.txt.gz\n",
    "    ...\n",
    "    fc_1_4_2678.txt.gz\n",
    "    ```\n",
    "\n",
    "    To accomodate for this, you can use the coordinate system provided [here](http://bimsbstatic.mdc-berlin.de/rajewsky/openst-public-data/openst_metastatic_lymph_node/coordinate_system/openst_coordinate_system.csv)\n",
    "\n",
    "    This can be downloaded directly with:\n",
    "    ```bash\n",
    "    mkdir -p $WORKDIR/raw_data/coordinate_system\n",
    "    wget http://bimsbstatic.mdc-berlin.de/rajewsky/openst-public-data/openst_metastatic_lymph_node/coordinate_system/openst_coordinate_system.csv -O $WORKDIR/raw_data/coordinate_system/openst_coordinate_system.csv\n",
    "    ```\n",
    "\n",
    "    Later, we will configure it in `spacemake`."
   ]
  },
  {
   "cell_type": "markdown",
   "metadata": {},
   "source": [
    "## Preparing the data"
   ]
  },
  {
   "cell_type": "markdown",
   "metadata": {},
   "source": [
    "The complete dataset that inspires this tutorial is available to download from GEO. Here, to make all processing quicker, we will use a downsampled version (~50M reads instead of 500M-1B reads), that is available from our server.\n",
    "\n",
    "Below we use the `wget` command to download the files to the correct relative locations:"
   ]
  },
  {
   "cell_type": "markdown",
   "metadata": {
    "vscode": {
     "languageId": "plaintext"
    }
   },
   "source": [
    "```bash\n",
    "# create folder for the raw data\n",
    "mkdir -p $WORKDIR/raw_data/reads\n",
    "mkdir -p $WORKDIR/raw_data/images\n",
    "\n",
    "# download all raw data\n",
    "## reads\n",
    "cd $WORKDIR/raw_data/reads\n",
    "wget ${BASE_URL}/reads/mLN_S2_R1.fastq.gz &\n",
    "wget ${BASE_URL}/reads/mLN_S2_R2.fastq.gz &\n",
    "wget ${BASE_URL}/reads/mLN_S3_R1.fastq.gz &\n",
    "wget ${BASE_URL}/reads/mLN_S3_R2.fastq.gz &\n",
    "wget ${BASE_URL}/reads/mLN_S4_R2.fastq.gz &\n",
    "wget ${BASE_URL}/reads/mLN_S4_R1.fastq.gz\n",
    "\n",
    "## images\n",
    "cd $WORKDIR/raw_data/images\n",
    "wget ${BASE_URL}/images/mLN_S2.tif &\n",
    "wget ${BASE_URL}/images/mLN_S3.tif &\n",
    "wget ${BASE_URL}/images/mLN_S4.tif\n",
    "```"
   ]
  },
  {
   "cell_type": "markdown",
   "metadata": {},
   "source": [
    "## Transcriptomic & spatial mapping with `spacemake`"
   ]
  },
  {
   "cell_type": "markdown",
   "metadata": {},
   "source": [
    "### Initialize\n",
    "\n",
    "Create the folder where `spacemake` will be initialized and run"
   ]
  },
  {
   "cell_type": "markdown",
   "metadata": {
    "vscode": {
     "languageId": "plaintext"
    }
   },
   "source": [
    "```bash\n",
    "mkdir -p $WORKDIR/spacemake\n",
    "```"
   ]
  },
  {
   "cell_type": "markdown",
   "metadata": {},
   "source": [
    "Then, intialize the conda environment we created for `spacemake` (see notebook `0_environment.ipynb`)"
   ]
  },
  {
   "cell_type": "markdown",
   "metadata": {
    "vscode": {
     "languageId": "plaintext"
    }
   },
   "source": [
    "```bash\n",
    "cd $WORKDIR/spacemake\n",
    "\n",
    "mamba activate openst\n",
    "```"
   ]
  },
  {
   "cell_type": "markdown",
   "metadata": {},
   "source": [
    "You will have a folder structure like:\n",
    "\n",
    "```bash\n",
    "/home/user # or other root folder\n",
    "|-- openst_demo\n",
    "|   |-- raw_data\n",
    "|   |   |-- raw_reads\n",
    "|   |   |   |-- mLN_S2_R1.fastq.gz\n",
    "|   |   |   `-- ...\n",
    "|   |   `-- ... \n",
    "|   `-- spacemake\n",
    "```"
   ]
  },
  {
   "cell_type": "markdown",
   "metadata": {},
   "source": [
    "Then, following the `spacemake` Quick start guide, browse to the spacemake directory you just created in the `openst_demo` folder, and run the initialization."
   ]
  },
  {
   "cell_type": "markdown",
   "metadata": {
    "vscode": {
     "languageId": "plaintext"
    }
   },
   "source": [
    "```bash\n",
    "wget https://github.com/broadinstitute/Drop-seq/releases/download/v2.5.1/Drop-seq_tools-2.5.1.zip -O Drop-seq_tools-2.5.1.zip\n",
    "unzip Drop-seq_tools-2.5.1.zip\n",
    "\n",
    "spacemake init \\\n",
    "    --dropseq_tools Drop-seq_tools-2.5.1\n",
    "```"
   ]
  },
  {
   "cell_type": "markdown",
   "metadata": {},
   "source": [
    "### Configure"
   ]
  },
  {
   "cell_type": "markdown",
   "metadata": {},
   "source": [
    "As `spacemake` comes with no default value for species, before anything can be done, a new species has to be added. In this case, we add mouse; you will need to download the correct `fa` and `gtf` files. For instance, you can download the mouse genome from gencode, as well as the annotation.\n",
    "\n",
    "Then, you need to run the following commands:"
   ]
  },
  {
   "cell_type": "markdown",
   "metadata": {
    "vscode": {
     "languageId": "plaintext"
    }
   },
   "source": [
    "```bash\n",
    "mkdir -p $WORKDIR/genomes\n",
    "wget http://bimsbstatic.mdc-berlin.de/rajewsky/openst-public-data/genomes/GRCh38p13.genome.fa -O $WORKDIR/genomes/GRCh38p13.genome.fa\n",
    "wget http://bimsbstatic.mdc-berlin.de/rajewsky/openst-public-data/genomes/gencodev41.annotation.gtf -O $WORKDIR/genomes/gencodev41.annotation.gtf\n",
    "wget http://bimsbstatic.mdc-berlin.de/rajewsky/openst-public-data/genomes/human.rRNA.fa -O $WORKDIR/genomes/human.rRNA.fa\n",
    "\n",
    "spacemake config add_species \\\n",
    "   --name human \\\n",
    "   --reference genome \\\n",
    "   --sequence $WORKDIR/genomes/GRCh38p13.genome.fa \\\n",
    "   --annotation $WORKDIR/genomes/gencodev41.annotation.gtf\n",
    "\n",
    "spacemake config add_species \\\n",
    "   --name human \\\n",
    "   --reference rRNA \\\n",
    "   --sequence $WORKDIR/genomes/human.rRNA.fa\n",
    "```"
   ]
  },
  {
   "cell_type": "markdown",
   "metadata": {},
   "source": [
    "Additionally, make sure you use the correct coordinate system for the tile data relevant for your flow cell. In this specific example, you will need to copy the coordinate system downloaded above, as:\n",
    "\n",
    "```bash\n",
    "cp $WORKDIR/raw_data/coordinate_system/openst_coordinate_system.csv $WORKDIR/spacemake/puck_data/openst_coordinate_system.csv\n",
    "``` "
   ]
  },
  {
   "cell_type": "markdown",
   "metadata": {},
   "source": [
    "### Add sample"
   ]
  },
  {
   "cell_type": "markdown",
   "metadata": {},
   "source": [
    "Now you add the sample data and metadata to `spacemake`.\n",
    "\n",
    "For simplicity, we provide the tile barcode files that are related to this sample, as well as the coordinate system for the Illumina flow cell that was used to generate the capture area of this experiment. Notice that we wrap it inside a `for` loop to add the three sections (with IDs 2, 3, 4) at once."
   ]
  },
  {
   "cell_type": "markdown",
   "metadata": {
    "vscode": {
     "languageId": "plaintext"
    }
   },
   "source": [
    "```bash\n",
    "for sample in mLN_S{2..4}; do\n",
    "    spacemake projects add_sample \\\n",
    "        --project_id mLN \\\n",
    "        --sample_id \"$sample\" \\\n",
    "        --R1 $WORKDIR/raw_data/reads/\"${sample}\"_R1.fastq.gz \\\n",
    "        --R2 $WORKDIR/raw_data/reads/\"${sample}\"_R2.fastq.gz \\\n",
    "        --species human \\\n",
    "        --puck openst \\\n",
    "        --run_mode openst \\\n",
    "        --barcode_flavor openst \\\n",
    "        --puck_barcode_file $WORKDIR/raw_data/tiles/*.txt.gz \\\n",
    "        --map_strategy \"bowtie2:rRNA->STAR:genome:final\"\n",
    "done\n",
    "```"
   ]
  },
  {
   "cell_type": "markdown",
   "metadata": {},
   "source": [
    "### Run\n",
    "\n",
    "That's it! Now, you can run `spacemake`:"
   ]
  },
  {
   "cell_type": "markdown",
   "metadata": {
    "vscode": {
     "languageId": "plaintext"
    }
   },
   "source": [
    "```bash\n",
    "spacemake run --cores 16 --keep-going\n",
    "```"
   ]
  },
  {
   "cell_type": "markdown",
   "metadata": {},
   "source": [
    "Modify the number of `--cores` depending on your machine (minimum of 4 cores). Using more cores will also use more memory.\n",
    "\n",
    "!!! warning\n",
    "    Since this is a subsampled dataset (<100M reads, too few for these tissue section size), there's very few cells that go beyond the UMI cutoffs set at the run-mode, for the generation of automated reports. You can change these to lower values. Otherwise, some rules (concerning automated reports) might fail if you run `spacemake==0.7.9`. If only rules that fail are related to `automated_analysis`, you can ignore the errors (important to use `--keep-going`), and still proceed with the rest of the workflow."
   ]
  },
  {
   "cell_type": "markdown",
   "metadata": {},
   "source": [
    "### Quality control & troubleshooting"
   ]
  },
  {
   "cell_type": "markdown",
   "metadata": {},
   "source": [
    "`spacemake` automatically creates `html` reports with convenient information about library QC and automated analysis (clustering, gene markers...). \n",
    "\n",
    "These are found at the sample's folders (e.g., for `mLN_S2`):\n",
    "\n",
    "`$WORKDIR/spacemake/projects/mLN/processed_data/mLN_S2/illumina/complete_data/`\n",
    "\n",
    "inside the `qc_sheets` and `automated_analysis` subfolders.\n",
    "\n",
    "1. The folder `qc_sheets` contains `html` reports with basic visualizations like histograms of unique molecules and genes per spatial unit (e.g., meshed/pseudo-cells of default size), and other metrics such as PCR bias\n",
    "2. The folder `automated_analysis` contains different subfolders with different UMI thresholds, and the results of automated clustering, neighborhood analysis, and differential gene expression between clusters (i.e., marker gene analysis)\n",
    "\n",
    "Here you can browse the QC reports we obtained for these (downsampled) data:\n",
    "\n",
    "- [mLN_S2](http://bimsbstatic.mdc-berlin.de/rajewsky/openst-public-data/openst_metastatic_lymph_node/output_qc/qc_sheet_mLN_S2_puck_collection.html)\n",
    "- [mLN_S3](http://bimsbstatic.mdc-berlin.de/rajewsky/openst-public-data/openst_metastatic_lymph_node/output_qc/qc_sheet_mLN_S3_puck_collection.html)\n",
    "- [mLN_S4](http://bimsbstatic.mdc-berlin.de/rajewsky/openst-public-data/openst_metastatic_lymph_node/output_qc/qc_sheet_mLN_S4_puck_collection.html)\n",
    "\n",
    "Taking a look at these files gives a first impression of the quality of the data: \n",
    "\n",
    "- *Did the data yield the expected genes or molecules per ~cell with the chosen sequencing depth?*\n",
    "- *Can one tell the tissue structure apart from the background by looking at UMIs or genes?*\n",
    "- *Was the library efficiently amplified, or did the capture work well?*\n",
    "- *Are there any noticeable spatial artifacts, e.g., missing areas of tissue?*"
   ]
  },
  {
   "cell_type": "markdown",
   "metadata": {},
   "source": [
    "## Next steps"
   ]
  },
  {
   "cell_type": "markdown",
   "metadata": {},
   "source": [
    "After you successfully run `spacemake`, you can proceed with the specific steps of Open-ST data with the `openst` package.\n",
    "\n",
    "Otherwise, you can use the *hexbin* objects, which are a good approximation for expression at cellular resolution (but not suitable for subcellular localization, or neighborhood analysis).\n",
    "\n",
    "These files are found at (e.g., for `mLN_S2`):\n",
    "\n",
    "`$WORKDIR/spacemake/projects/mLN/processed_data/mLN_S2/illumina/complete_data/dge/dge.all.polyA_adapter_trimmed.mm_included.spatial_beads.mesh_7_hexagon_puck_collection`\n",
    "\n",
    "These can be used for pairwise alignment to the images, but cannot be used for segmentation. In that case, you need to use the 0.6 µm-resolved spots, and not this 7 µm-side hexagon binning.\n",
    "\n",
    "Also, these can be used for 3D registration, but we recommend using the segmented objects."
   ]
  }
 ],
 "metadata": {
  "language_info": {
   "name": "python"
  },
  "orig_nbformat": 4
 },
 "nbformat": 4,
 "nbformat_minor": 2
}
