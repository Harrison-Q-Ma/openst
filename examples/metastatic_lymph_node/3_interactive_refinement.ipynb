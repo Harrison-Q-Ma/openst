{
 "cells": [
  {
   "cell_type": "code",
   "execution_count": 2,
   "id": "6499e601",
   "metadata": {},
   "outputs": [],
   "source": [
    "import napari\n",
    "import numpy as np\n",
    "\n",
    "from openst.utils.points import split_points_by_categorical, point_inside_which_pointsets\n",
    "from openst.alignment.pairwise_aligner import estimate_transform, apply_transform\n",
    "from openst.utils.file import load_properties_from_adata\n",
    "\n",
    "from skimage.transform import estimate_transform\n",
    "\n",
    "# this one is optional, depending on whether we apply the fiducial correspondence\n",
    "# from openst.alignment.fiducial_detection import correspondences_fiducials"
   ]
  },
  {
   "cell_type": "code",
   "execution_count": 4,
   "id": "295a41ee",
   "metadata": {},
   "outputs": [],
   "source": [
    "ADATA_PATH = '/data/rajewsky/home/dleonpe/projects/openst_paper/data/2_downstream/fc_sts_63/auto_aligned_he/fc_sts_063_4_stitched_spots_aligned.h5ad'\n",
    "ADATA_ALIGNMENT_UNS_PATH = 'spatial_pairwise_aligned'\n",
    "ADATA_ALIGNMENT_UNS_PATH_REFINE = 'spatial_pairwise_aligned_refined'\n",
    "OUTPUT_PATH = '/data/rajewsky/home/dleonpe/projects/openst_paper/data/2_downstream/fc_sts_63/auto_aligned_he/fc_sts_063_4_stitched_spots_aligned_refined.h5ad'"
   ]
  },
  {
   "cell_type": "code",
   "execution_count": 10,
   "id": "28f7aa2d",
   "metadata": {},
   "outputs": [],
   "source": [
    "sts = load_properties_from_adata(ADATA_PATH, properties=[\"obsm/spatial_pairwise_aligned_fine\", \"obs/puck_id\", \"uns/spatial_pairwise_aligned/staining_image_transformed\"])\n",
    "staining_image = sts[\"uns/spatial_pairwise_aligned/staining_image_transformed\"]"
   ]
  },
  {
   "cell_type": "code",
   "execution_count": 6,
   "id": "0c31264d",
   "metadata": {},
   "outputs": [],
   "source": [
    "viewer = napari.Viewer()"
   ]
  },
  {
   "cell_type": "code",
   "execution_count": 11,
   "id": "17cfc60c",
   "metadata": {},
   "outputs": [],
   "source": [
    "sts_coords = sts[\"obsm/spatial_pairwise_aligned_fine\"]\n",
    "puck_id = sts[\"obs/puck_id\"].codes\n",
    "tiles = split_points_by_categorical(sts_coords, puck_id)"
   ]
  },
  {
   "cell_type": "code",
   "execution_count": null,
   "id": "b99eeb8d",
   "metadata": {},
   "outputs": [],
   "source": [
    "viewer.add_image(staining_image)"
   ]
  },
  {
   "cell_type": "code",
   "execution_count": 16,
   "id": "08c389ef",
   "metadata": {},
   "outputs": [],
   "source": [
    "for key, tile in tiles.items():\n",
    "    viewer.add_points(\n",
    "        tile[::10][:, ::-1],\n",
    "        name=key,\n",
    "        size=20,\n",
    "        opacity=0.5\n",
    "    )"
   ]
  },
  {
   "cell_type": "code",
   "execution_count": 26,
   "id": "348c0575",
   "metadata": {},
   "outputs": [],
   "source": [
    "points_fiducial_staining = np.array(viewer.layers[f\"points_fiducial_staining\"].data)\n",
    "points_fiducial_sts = np.array(viewer.layers[f\"points_fiducial_sts\"].data)"
   ]
  },
  {
   "cell_type": "code",
   "execution_count": 27,
   "id": "1e31944e",
   "metadata": {},
   "outputs": [],
   "source": [
    "adata_uns_refinement = {}\n",
    "adata_uns_refinement['points_fiducial_staining'] = points_fiducial_staining\n",
    "adata_uns_refinement['points_fiducial_sts'] = points_fiducial_sts"
   ]
  },
  {
   "cell_type": "code",
   "execution_count": 31,
   "id": "d969ee1f",
   "metadata": {},
   "outputs": [
    {
     "data": {
      "text/plain": [
       "(array([[ 7691.74361017, 12378.6614719 ],\n",
       "        [ 8641.29913774, 12512.18466446],\n",
       "        [10325.14666383, 13906.60964168],\n",
       "        [11099.28565735, 13940.58654097],\n",
       "        [13875.12080311, 12365.08121116],\n",
       "        [14807.28018893, 12468.99489708],\n",
       "        [13570.90172214, 14807.27101611],\n",
       "        [14501.1488476 , 14923.90750584]]),\n",
       " array([5, 5, 10, 10, None, None, 11, 11], dtype=object))"
      ]
     },
     "execution_count": 31,
     "metadata": {},
     "output_type": "execute_result"
    }
   ],
   "source": [
    "points_fiducial_sts, points_in_pointset"
   ]
  },
  {
   "cell_type": "code",
   "execution_count": 29,
   "id": "c3734151",
   "metadata": {},
   "outputs": [
    {
     "ename": "TypeError",
     "evalue": "'>' not supported between instances of 'int' and 'NoneType'",
     "output_type": "error",
     "traceback": [
      "\u001b[0;31m---------------------------------------------------------------------------\u001b[0m",
      "\u001b[0;31mTypeError\u001b[0m                                 Traceback (most recent call last)",
      "Cell \u001b[0;32mIn[29], line 3\u001b[0m\n\u001b[1;32m      1\u001b[0m \u001b[39m# this must be moved to the code (not the plugin)\u001b[39;00m\n\u001b[1;32m      2\u001b[0m points_in_pointset \u001b[39m=\u001b[39m point_inside_which_pointsets(points_fiducial_sts, tiles)\n\u001b[0;32m----> 3\u001b[0m points_sts_fiducial_by_pointset \u001b[39m=\u001b[39m split_points_by_categorical(points_fiducial_sts, points_in_pointset)\n\u001b[1;32m      4\u001b[0m points_staining_fiducial_by_pointset \u001b[39m=\u001b[39m split_points_by_categorical(points_fiducial_staining, points_in_pointset)\n",
      "File \u001b[0;32m~/miniconda3/envs/openst_dev/lib/python3.10/site-packages/openst/utils/points.py:30\u001b[0m, in \u001b[0;36msplit_points_by_categorical\u001b[0;34m(points, cat)\u001b[0m\n\u001b[1;32m     26\u001b[0m     \u001b[39mraise\u001b[39;00m \u001b[39mValueError\u001b[39;00m(\u001b[39m\"\u001b[39m\u001b[39mThe provided \u001b[39m\u001b[39m'\u001b[39m\u001b[39mpoints\u001b[39m\u001b[39m'\u001b[39m\u001b[39m and \u001b[39m\u001b[39m'\u001b[39m\u001b[39mcat\u001b[39m\u001b[39m'\u001b[39m\u001b[39m have different shapes\u001b[39m\u001b[39m\"\u001b[39m)\n\u001b[1;32m     28\u001b[0m splitted_points \u001b[39m=\u001b[39m {}\n\u001b[0;32m---> 30\u001b[0m cat_unique \u001b[39m=\u001b[39m np\u001b[39m.\u001b[39;49munique(cat)\n\u001b[1;32m     31\u001b[0m \u001b[39mfor\u001b[39;00m _i_cat_unique \u001b[39min\u001b[39;00m cat_unique:\n\u001b[1;32m     32\u001b[0m     splitted_points[_i_cat_unique] \u001b[39m=\u001b[39m points[cat \u001b[39m==\u001b[39m _i_cat_unique]\n",
      "File \u001b[0;32m~/miniconda3/envs/openst_dev/lib/python3.10/site-packages/numpy/lib/arraysetops.py:274\u001b[0m, in \u001b[0;36munique\u001b[0;34m(ar, return_index, return_inverse, return_counts, axis, equal_nan)\u001b[0m\n\u001b[1;32m    272\u001b[0m ar \u001b[39m=\u001b[39m np\u001b[39m.\u001b[39masanyarray(ar)\n\u001b[1;32m    273\u001b[0m \u001b[39mif\u001b[39;00m axis \u001b[39mis\u001b[39;00m \u001b[39mNone\u001b[39;00m:\n\u001b[0;32m--> 274\u001b[0m     ret \u001b[39m=\u001b[39m _unique1d(ar, return_index, return_inverse, return_counts, \n\u001b[1;32m    275\u001b[0m                     equal_nan\u001b[39m=\u001b[39;49mequal_nan)\n\u001b[1;32m    276\u001b[0m     \u001b[39mreturn\u001b[39;00m _unpack_tuple(ret)\n\u001b[1;32m    278\u001b[0m \u001b[39m# axis was specified and not None\u001b[39;00m\n",
      "File \u001b[0;32m~/miniconda3/envs/openst_dev/lib/python3.10/site-packages/numpy/lib/arraysetops.py:336\u001b[0m, in \u001b[0;36m_unique1d\u001b[0;34m(ar, return_index, return_inverse, return_counts, equal_nan)\u001b[0m\n\u001b[1;32m    334\u001b[0m     aux \u001b[39m=\u001b[39m ar[perm]\n\u001b[1;32m    335\u001b[0m \u001b[39melse\u001b[39;00m:\n\u001b[0;32m--> 336\u001b[0m     ar\u001b[39m.\u001b[39;49msort()\n\u001b[1;32m    337\u001b[0m     aux \u001b[39m=\u001b[39m ar\n\u001b[1;32m    338\u001b[0m mask \u001b[39m=\u001b[39m np\u001b[39m.\u001b[39mempty(aux\u001b[39m.\u001b[39mshape, dtype\u001b[39m=\u001b[39mnp\u001b[39m.\u001b[39mbool_)\n",
      "\u001b[0;31mTypeError\u001b[0m: '>' not supported between instances of 'int' and 'NoneType'"
     ]
    }
   ],
   "source": [
    "# this must be moved to the code (not the plugin)\n",
    "points_in_pointset = point_inside_which_pointsets(points_fiducial_sts, tiles)\n",
    "points_sts_fiducial_by_pointset = split_points_by_categorical(points_fiducial_sts, points_in_pointset)\n",
    "points_staining_fiducial_by_pointset = split_points_by_categorical(points_fiducial_staining, points_in_pointset)"
   ]
  },
  {
   "cell_type": "code",
   "execution_count": 21,
   "id": "3e52e7e6",
   "metadata": {},
   "outputs": [],
   "source": [
    "sts_coords_refined = sts_coords.copy()"
   ]
  },
  {
   "cell_type": "code",
   "execution_count": null,
   "id": "1486950e",
   "metadata": {},
   "outputs": [],
   "source": [
    "points_sts_matched = {}\n",
    "points_staining_matched = {}\n",
    "\n",
    "for puck in np.unique(puck_id):\n",
    "    # The code below finds the mutually nearest points \n",
    "    # points_sts_matched[puck], points_staining_matched[puck] = correspondences_fiducials(points_sts_fiducial_by_pointset[puck], points_staining_fiducial_by_pointset[puck])\n",
    "    # The code below will use the points based on which order they were selected\n",
    "    points_sts_matched[puck], points_staining_matched[puck] = points_sts_fiducial_by_pointset[puck], points_staining_fiducial_by_pointset[puck]\n",
    "\n",
    "    puck_tform = estimate_transform(\"similarity\", points_sts_matched[puck], points_staining_matched[puck])\n",
    "    \n",
    "    sts_coords_refined[puck_id == puck] = apply_transform(\n",
    "        tiles[puck], puck_tform, check_bounds=True\n",
    "    )"
   ]
  },
  {
   "cell_type": "code",
   "execution_count": null,
   "id": "831c57fd",
   "metadata": {},
   "outputs": [],
   "source": [
    "adata.write_h5ad(OUTPUT_PATH)"
   ]
  }
 ],
 "metadata": {
  "kernelspec": {
   "display_name": "Python 3",
   "language": "python",
   "name": "python3"
  },
  "language_info": {
   "codemirror_mode": {
    "name": "ipython",
    "version": 3
   },
   "file_extension": ".py",
   "mimetype": "text/x-python",
   "name": "python",
   "nbconvert_exporter": "python",
   "pygments_lexer": "ipython3",
   "version": "3.10.12"
  },
  "vscode": {
   "interpreter": {
    "hash": "916dbcbb3f70747c44a77c7bcd40155683ae19c65e1c03b4aa3499c5328201f1"
   }
  }
 },
 "nbformat": 4,
 "nbformat_minor": 5
}
